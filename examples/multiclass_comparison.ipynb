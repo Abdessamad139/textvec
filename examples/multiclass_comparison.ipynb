{
 "cells": [
  {
   "cell_type": "code",
   "execution_count": 1,
   "metadata": {},
   "outputs": [],
   "source": [
    "import os\n",
    "\n",
    "import numpy as np\n",
    "import pandas as pd\n",
    "from sklearn.datasets import fetch_20newsgroups\n",
    "from sklearn.utils import shuffle\n",
    "from sklearn.feature_extraction.text import CountVectorizer, TfidfTransformer\n",
    "from sklearn.linear_model import LogisticRegression\n",
    "from sklearn.pipeline import Pipeline\n",
    "from sklearn.model_selection import GridSearchCV, train_test_split\n",
    "from sklearn.metrics.classification import accuracy_score, f1_score\n",
    "import matplotlib.pyplot as plt\n",
    "import seaborn as sns\n",
    "\n",
    "from textvec import vectorizers"
   ]
  },
  {
   "cell_type": "code",
   "execution_count": 2,
   "metadata": {},
   "outputs": [],
   "source": [
    "import warnings\n",
    "warnings.filterwarnings(\"ignore\")"
   ]
  },
  {
   "cell_type": "markdown",
   "metadata": {},
   "source": [
    "# Load data"
   ]
  },
  {
   "cell_type": "markdown",
   "metadata": {},
   "source": [
    "## 20news"
   ]
  },
  {
   "cell_type": "code",
   "execution_count": 3,
   "metadata": {},
   "outputs": [],
   "source": [
    "def get_multiclass_20news_data():\n",
    "    newsgroups_train = fetch_20newsgroups(subset=\"train\")\n",
    "    newsgroups_test = fetch_20newsgroups(subset=\"test\")\n",
    "    train_data = pd.DataFrame({\"text\": newsgroups_train.data, \"y\": newsgroups_train.target})\n",
    "    test_data = pd.DataFrame({\"text\": newsgroups_test.data, \"y\": newsgroups_test.target})\n",
    "    return train_data, test_data"
   ]
  },
  {
   "cell_type": "code",
   "execution_count": 4,
   "metadata": {},
   "outputs": [],
   "source": [
    "news_train, news_test = get_multiclass_20news_data()"
   ]
  },
  {
   "cell_type": "markdown",
   "metadata": {},
   "source": [
    "## Airline sentiments"
   ]
  },
  {
   "cell_type": "code",
   "execution_count": 5,
   "metadata": {},
   "outputs": [],
   "source": [
    "def get_airline_multiclass_sentiment_data(path):\n",
    "    df = pd.read_csv(path, encoding = \"ISO-8859-1\")\n",
    "    df.loc[df.airline_sentiment == \"negative\",\"airline_sentiment\"] = 0\n",
    "    df.loc[df.airline_sentiment == \"positive\",\"airline_sentiment\"] = 1\n",
    "    df.loc[df.airline_sentiment == \"neutral\",\"airline_sentiment\"] = 2\n",
    "    X_train, X_test, y_train, y_test = train_test_split(\n",
    "        df.text, df.airline_sentiment, stratify=df.airline_sentiment, test_size=0.2, random_state=0\n",
    "    )\n",
    "    train_data = pd.DataFrame({\"text\": X_train, \"y\": y_train})\n",
    "    test_data = pd.DataFrame({\"text\": X_test, \"y\": y_test})\n",
    "    return train_data, test_data"
   ]
  },
  {
   "cell_type": "code",
   "execution_count": 6,
   "metadata": {},
   "outputs": [],
   "source": [
    "air_train, air_test = get_airline_multiclass_sentiment_data(\"/home/enio/Загрузки/data/Airline-Sentiment-2-w-AA.csv\")"
   ]
  },
  {
   "cell_type": "markdown",
   "metadata": {},
   "source": [
    "# Grid search"
   ]
  },
  {
   "cell_type": "code",
   "execution_count": 7,
   "metadata": {},
   "outputs": [],
   "source": [
    "transformers = [\n",
    "    (\"tf\", TfidfTransformer(use_idf=False, sublinear_tf=True)),\n",
    "    (\"tfidf\", TfidfTransformer(sublinear_tf=True)),\n",
    "    (\"tficf\", vectorizers.TfIcfVectorizer(sublinear_tf=True))\n",
    "]"
   ]
  },
  {
   "cell_type": "code",
   "execution_count": 8,
   "metadata": {},
   "outputs": [],
   "source": [
    "param_grid = {\n",
    "    \"vectorizer__ngram_range\": [(1, 1), (1, 2), (1, 3)],\n",
    "    \"vectorizer__max_features\": [2000, 5000, None],\n",
    "    \"clf__C\": [0.01, 0.1, 1, 10],\n",
    "}"
   ]
  },
  {
   "cell_type": "code",
   "execution_count": 9,
   "metadata": {},
   "outputs": [],
   "source": [
    "def grid_search(param_grid, train, test, n_jobs=-1):\n",
    "    results = dict()\n",
    "    \n",
    "    for name, transformer in transformers:\n",
    "        pipeline = Pipeline([\n",
    "            (\"vectorizer\", CountVectorizer()),\n",
    "            (\"transformer\", transformer),\n",
    "            (\"clf\", LogisticRegression(solver=\"saga\", random_state=0))\n",
    "        ])\n",
    "        search = GridSearchCV(pipeline, param_grid, cv=5, n_jobs=n_jobs, scoring=\"accuracy\")\n",
    "        search.fit(train.text, train.y)\n",
    "\n",
    "        test_preds_proba = search.best_estimator_.predict_proba(test.text)\n",
    "        test_preds = np.argmax(test_preds_proba, axis=1)\n",
    "        np.testing.assert_allclose(test_preds, search.best_estimator_.predict(test.text))\n",
    "\n",
    "        train_accuracy = search.best_score_\n",
    "        test_accuracy = accuracy_score(test.y, test_preds)\n",
    "        print(f\"{name:10} train accuracy: {train_accuracy:<15} test accuracy: {test_accuracy}\")\n",
    "\n",
    "        local_results = {\n",
    "            \"best_params\": search.best_params_,\n",
    "            \"test_accuracy\": test_accuracy,\n",
    "            \"preds_proba\": test_preds_proba[:, 1]\n",
    "        }\n",
    "        results[name] = local_results\n",
    "    return results"
   ]
  },
  {
   "cell_type": "markdown",
   "metadata": {},
   "source": [
    "# Correlation heatmap"
   ]
  },
  {
   "cell_type": "code",
   "execution_count": 10,
   "metadata": {},
   "outputs": [],
   "source": [
    "def plot_correlation_heatmap(results, title):\n",
    "    probs = []\n",
    "    labels = []\n",
    "    for name, _ in transformers:\n",
    "        probs.append(results[name][\"preds_proba\"])\n",
    "        accuracy = results[name][\"test_accuracy\"]\n",
    "        labels.append(f\"{name}: {accuracy:.4f}\")\n",
    "    probs = np.array(probs)\n",
    "    corr = np.corrcoef(probs)\n",
    "\n",
    "    fig, ax = plt.subplots(figsize=(10,10))\n",
    "    ax = sns.heatmap(corr, \n",
    "                     cmap=\"viridis\", \n",
    "                     square=True, \n",
    "                     annot=corr, \n",
    "                     linewidth=0.5,\n",
    "                     xticklabels=labels,\n",
    "                     yticklabels=labels)\n",
    "    ax.set_title(title)\n",
    "    plt.show()"
   ]
  },
  {
   "cell_type": "code",
   "execution_count": 13,
   "metadata": {},
   "outputs": [
    {
     "name": "stdout",
     "output_type": "stream",
     "text": [
      "tf         train accuracy: 0.8059255464480874 test accuracy: 0.8084016393442623\n",
      "tfidf      train accuracy: 0.8046448087431693 test accuracy: 0.8118169398907104\n",
      "tficf      train accuracy: 0.8080601092896175 test accuracy: 0.8125\n"
     ]
    },
    {
     "data": {
      "image/png": "[encoded data removed]",
      "text/plain": [
       "<Figure size 720x720 with 2 Axes>"
      ]
     },
     "metadata": {
      "needs_background": "light"
     },
     "output_type": "display_data"
    }
   ],
   "source": [
    "results = grid_search(param_grid, air_train, air_test, n_jobs=4)\n",
    "plot_correlation_heatmap(results, \"Airline sentiment 3 class Dataset\")"
   ]
  },
  {
   "cell_type": "code",
   "execution_count": 12,
   "metadata": {},
   "outputs": [
    {
     "name": "stdout",
     "output_type": "stream",
     "text": [
      "tf         train accuracy: 0.8980908608803253 test accuracy: 0.820631970260223\n",
      "tfidf      train accuracy: 0.9272582640975782 test accuracy: 0.8575411577270313\n",
      "tficf      train accuracy: 0.9129397207000177 test accuracy: 0.8292618162506639\n"
     ]
    },
    {
     "data": {
      "image/png": "[encoded data removed]",
      "text/plain": [
       "<Figure size 720x720 with 2 Axes>"
      ]
     },
     "metadata": {
      "needs_background": "light"
     },
     "output_type": "display_data"
    }
   ],
   "source": [
    "results = grid_search(param_grid, news_train, news_test, n_jobs=3)\n",
    "plot_correlation_heatmap(results, \"20 classes news dataset\")"
   ]
  },
  {
   "cell_type": "code",
   "execution_count": null,
   "metadata": {},
   "outputs": [],
   "source": []
  }
 ],
 "metadata": {
  "kernelspec": {
   "display_name": "Python 3",
   "language": "python",
   "name": "python3"
  },
  "language_info": {
   "codemirror_mode": {
    "name": "ipython",
    "version": 3
   },
   "file_extension": ".py",
   "mimetype": "text/x-python",
   "name": "python",
   "nbconvert_exporter": "python",
   "pygments_lexer": "ipython3",
   "version": "3.6.8"
  },
  "pycharm": {
   "stem_cell": {
    "cell_type": "raw",
    "source": [],
    "metadata": {
     "collapsed": false
    }
   }
  }
 },
 "nbformat": 4,
 "nbformat_minor": 4
}